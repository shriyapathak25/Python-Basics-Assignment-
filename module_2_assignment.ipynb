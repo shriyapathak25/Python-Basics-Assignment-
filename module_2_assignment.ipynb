{
  "nbformat": 4,
  "nbformat_minor": 0,
  "metadata": {
    "colab": {
      "provenance": []
    },
    "kernelspec": {
      "name": "python3",
      "display_name": "Python 3"
    },
    "language_info": {
      "name": "python"
    }
  },
  "cells": [
    {
      "cell_type": "markdown",
      "source": [
        "**answer 1**. python is a programming language use to interact with computer. python is use to give command to compute to complete specific task.\n",
        "python is a popular language because of it's versatility it can be used in many things like data science, machine learning, developing apps and many more. it is also easy to learn, it is free and open source."
      ],
      "metadata": {
        "id": "4S-0kEnkKsld"
      }
    },
    {
      "cell_type": "markdown",
      "source": [
        "**answer 2.** computer do not understand any language rather than 1 and 0 which is also known as binary number. and the the code we write in python is in the language which computer do not understand so the interpreter convert the code in 1 and 0 so that computer understand the instruction we have given.\n",
        "basically interpreter is a translator between computer and user."
      ],
      "metadata": {
        "id": "HarRz5YxNJNz"
      }
    },
    {
      "cell_type": "markdown",
      "source": [
        "**answer 3.** pre defined keywords in python are special words which has it's own meaning in python and we can not use this keywords to assign any variable. keywords are also case sensitive.\n",
        "some of the keywords are:-\n",
        "True, False, None, if, else, elif, for, while, break, continue, is, and, not and many more."
      ],
      "metadata": {
        "id": "052UQq9uSH0-"
      }
    },
    {
      "cell_type": "markdown",
      "source": [
        "**answer 4**. no, keywords can not be used as variable name as it has it's own meaning. and even though we try to assign a variable to any keyword then it will give syntax error."
      ],
      "metadata": {
        "id": "GLRDFGZDTkFg"
      }
    },
    {
      "cell_type": "markdown",
      "source": [
        "**answer 5.** mutability refers to the changes in object value. mutability means we can modify the value with the updates value we have. List is mutable. for example if i have a obj_list = [ 1, True, 4.5, \"shriya\"] now here obj_list[3] is assigned as \"shriya\" but now i have to change it so i will write is obj_list[3] = \"shivam\" and again print obj_list it will be updated and the output will be [1, True, 4.5, 'shivam']"
      ],
      "metadata": {
        "id": "fgMl-2PCUI62"
      }
    },
    {
      "cell_type": "markdown",
      "source": [
        "**answer 6.** List are considerd to be mutable because once the list is created we can modify the element of list after creation. we can perform certain activity in list that is update, add and remove the element from the list.\n",
        "\n",
        "\n",
        "---\n",
        "Tuples are called immutable because once it is created we can not change or modifyu the element of the tuple. It is same life list we can store hetrogenous data in it but can not peform any operations on it like update,remove and add.once it is created it will be as it is no changes will happen in it.\n",
        "\n",
        "\n",
        "\n"
      ],
      "metadata": {
        "id": "Xj6-sPp5pwMF"
      }
    },
    {
      "cell_type": "markdown",
      "source": [
        "**answer 7.** (==) and (is) both are comparison operators but work differently\n",
        "\n",
        "\n",
        "1. == operator is called equality and its work is to check the values of two objects are equal or not even if they are stored in different memory location. for example a = [1, 2, 3]  b = [1, 2, 3]\n",
        "print(a == b) the output will we true.\n",
        "\n",
        "2. is operator is ues to check whether two objects have the same memory location or not. for example a = [1, 2, 3] b = [1, 2, 3] print(a is b) the output will be false. as the element of a and b both are same but we have assigned 2 differnt variable to the element which means both will have differnt memory location but if we write a = [1, 2, 3] b=a print(a is b) the output will be true.\n",
        "\n",
        "\n"
      ],
      "metadata": {
        "id": "LxWA0H0LSDnq"
      }
    },
    {
      "cell_type": "markdown",
      "source": [
        "**answer 8.** There are 3 logical operators in Python and they are and, or, not\n",
        "\n",
        "\n",
        "*   **and** gives true when both the conditions are true and false is given when any one of the condition is false. for example a = 5 b = 10\n",
        "print(a > 2 and b < 20) this will give output as true because both conditions are true.\n",
        "print(a > 10 and b < 20) this will give output as false because first condition is false and other is true\n",
        "*   **or** gives false when both the condition is false. and it gives true when any one of the condition is true. for example a = 5 b = 10\n",
        "print(a > 10 or b < 20) output will we given as true because second condition is true\n",
        "print(a > 10 or b > 20) output will be given as false because both conditions are false\n",
        "\n",
        "*   **not** by appling not to any condition it reverses the boolean value. for example a = 10\n",
        "print(not a > 2) the output will be false because a > 2 is true but not makes it false\n",
        "print(not a > 20) the output will be true because a > 20 is false but not makes the condition true\n",
        "\n",
        "\n",
        "\n",
        "\n",
        "\n"
      ],
      "metadata": {
        "id": "SWy_fq4xjEKX"
      }
    },
    {
      "cell_type": "markdown",
      "source": [
        "**answer 9** Type casting is the process of converting one data type into another data type. it has 2 type a) implicit and b) explicit\n",
        "\n",
        "*   a = \"2\" b = 3 print(a+b) as we can see a is given the value as 2 which is integer but as it is written in \" \" so it will consider as string. anything which is written in \" \" will be consider as string so the output will give error. so to get the output we will convert \"2\" in int data type by writting\n",
        "print(type(int(a)))  **And this is called explicit type casting**\n",
        "\n",
        "*   Now in implicit type casting adding numeric types like int, float, complex is possible and adding strings or lists with their own types is possible for example a = 5 + 3.5\n",
        "print(a) the output will be in float data type .\n",
        "a= \"shriya\" b = \"25\" print(a+b) the output will be shriya25 which will be string.\n"
      ],
      "metadata": {
        "id": "S3XGqHrBsBD8"
      }
    },
    {
      "cell_type": "markdown",
      "source": [
        "**answer 10.** **explicit type casting**  \n",
        "\n",
        "*   a = \"2\" b = 3 print(a+b) as we can see a is given the value as 2 which is integer but as it is written in \" \" so it will consider as string. anything which is written in \" \" will be consider as string so the output will give error. so to get the output we will convert \"2\" in int data type by writting\n",
        "print(int(a))\n",
        "\n",
        "*   **Now in implicit type casting** adding numeric types like int, float, complex is possible and adding strings or lists with their own types is possible for example a = 5 + 3.5\n",
        "print(a) the output will be in float data type .\n",
        "a= \"shriya\" b = \"25\" print(a+b) the output will be shriya25 which will be string. In this python understand the data itself"
      ],
      "metadata": {
        "id": "hA--Mzq6x8PS"
      }
    },
    {
      "cell_type": "markdown",
      "source": [
        "**answer 11.**  purpose of conditional statements is to make decisions based on conditions. there are different conditional statements like if, if else, elif and nested if else."
      ],
      "metadata": {
        "id": "kRN5gSwIzUMN"
      }
    },
    {
      "cell_type": "markdown",
      "source": [
        "**answer 12.** elif condition is short way of else if. it is use to check multiple conditions of the statement. for example\n",
        "x = 10\n",
        "if x > 20:\n",
        "print(\"x is greater than 20\")\n",
        "elif x < 20:\n",
        "print(\"x is smaller than 20\")\n",
        "else:\n",
        "print(\"value is equal to the vale of x\")\n",
        "\n",
        "Here we have pre define the value of x as 10 and first condition we applied is not true as 10 is smaller that 20 so it will got to second condition which satisfy the condition so it will print \"x is smaller than 20\" and will get exit from the code. Once it is satisfy at any condition it will never go to the next condition to check it will directly get out of the whole code and will print the statement."
      ],
      "metadata": {
        "id": "SCPbn7Cb63XY"
      }
    },
    {
      "cell_type": "markdown",
      "source": [
        "**answer 13.**  \n",
        "\n",
        "1. for loop are used for iterating over the elements\n",
        "2. for loop know the number of iterations\n",
        "\n",
        "---\n",
        "\n",
        "1. while loop are used for repearting a task based on a condition given\n",
        "2. while loop does not have any specific number of iteration. iteration are done till the condition is satisfied.\n",
        "\n",
        "\n",
        "\n"
      ],
      "metadata": {
        "id": "YcrQejGs-omq"
      }
    },
    {
      "cell_type": "markdown",
      "source": [
        "**answer 14.** consider that you are learning how to ride a bicycle. until you can maintain your balance on the bike for ten seconds without falling, you should continue to practise. a while loop is better suited in this situation than a for loop because you can't predict how many tries will be necessary to accomplish this goal it might take five, ten, or more"
      ],
      "metadata": {
        "id": "ZG7Bc-4YAMcc"
      }
    },
    {
      "cell_type": "markdown",
      "source": [
        "# **PRACTICAL QUESTIONS**"
      ],
      "metadata": {
        "id": "qlplJFPgWtOQ"
      }
    },
    {
      "cell_type": "code",
      "source": [
        "# answer 1.\n",
        "print(\"Hello, World!\")"
      ],
      "metadata": {
        "colab": {
          "base_uri": "https://localhost:8080/"
        },
        "id": "qSzLrWOxW6RS",
        "outputId": "d56f3f6a-b070-4478-892f-264e45766dc0"
      },
      "execution_count": 1,
      "outputs": [
        {
          "output_type": "stream",
          "name": "stdout",
          "text": [
            "Hello, World!\n"
          ]
        }
      ]
    },
    {
      "cell_type": "code",
      "source": [
        "# answer 2\n",
        "name = \"Shriya Pathak\"\n",
        "age = 22\n",
        "print(\"Name:\", name)\n",
        "print(\"Age:\", age)\n"
      ],
      "metadata": {
        "colab": {
          "base_uri": "https://localhost:8080/"
        },
        "id": "9bxVU2QQXGPh",
        "outputId": "ed53b19e-081c-449e-8477-88195c5e0f4c"
      },
      "execution_count": 3,
      "outputs": [
        {
          "output_type": "stream",
          "name": "stdout",
          "text": [
            "Name: Shriya Pathak\n",
            "Age: 22\n"
          ]
        }
      ]
    },
    {
      "cell_type": "code",
      "source": [
        "#answer 3\n",
        "help(\"keywords\")"
      ],
      "metadata": {
        "colab": {
          "base_uri": "https://localhost:8080/"
        },
        "id": "k3iPTFzMXW-L",
        "outputId": "d7c274e2-0cea-4f1d-9f40-6f37ea042aab"
      },
      "execution_count": 5,
      "outputs": [
        {
          "output_type": "stream",
          "name": "stdout",
          "text": [
            "\n",
            "Here is a list of the Python keywords.  Enter any keyword to get more help.\n",
            "\n",
            "False               class               from                or\n",
            "None                continue            global              pass\n",
            "True                def                 if                  raise\n",
            "and                 del                 import              return\n",
            "as                  elif                in                  try\n",
            "assert              else                is                  while\n",
            "async               except              lambda              with\n",
            "await               finally             nonlocal            yield\n",
            "break               for                 not                 \n",
            "\n"
          ]
        }
      ]
    },
    {
      "cell_type": "code",
      "source": [
        "#answer 4\n",
        "word = input(\"Enter a word: \")\n",
        "\n",
        "result = \"is\" if keyword.iskeyword(word) else \"is not\"\n",
        "print(f\"'{word}' {result} a Python keyword.\")\n"
      ],
      "metadata": {
        "colab": {
          "base_uri": "https://localhost:8080/"
        },
        "id": "PTuoMlJnYSZ2",
        "outputId": "905d04af-1333-4b29-a903-c926317cf099"
      },
      "execution_count": 12,
      "outputs": [
        {
          "output_type": "stream",
          "name": "stdout",
          "text": [
            "Enter a word: true\n",
            "'true' is not a Python keyword.\n"
          ]
        }
      ]
    },
    {
      "cell_type": "code",
      "source": [
        "#answer 5\n",
        "# for list\n",
        "lis = [1, 2, 3, 4]\n",
        "print(\"original list\",lis)\n",
        "lis[1] = 10\n",
        "print(\"updated List:\", lis)\n"
      ],
      "metadata": {
        "colab": {
          "base_uri": "https://localhost:8080/"
        },
        "id": "gbTw6wJTZNWy",
        "outputId": "b5f989c8-c918-411d-91e8-7f7ddfa1e64d"
      },
      "execution_count": 16,
      "outputs": [
        {
          "output_type": "stream",
          "name": "stdout",
          "text": [
            "original list [1, 2, 3, 4]\n",
            "updated List: [1, 10, 3, 4]\n"
          ]
        }
      ]
    },
    {
      "cell_type": "code",
      "source": [
        "# for tuple\n",
        "tup = (1, 2, 3, 4)\n",
        "print(\"original tuple\",tup)"
      ],
      "metadata": {
        "colab": {
          "base_uri": "https://localhost:8080/"
        },
        "id": "-9HZIqtPa-jr",
        "outputId": "8e14639a-b3dd-4b35-eda8-4405c3d4df66"
      },
      "execution_count": 18,
      "outputs": [
        {
          "output_type": "stream",
          "name": "stdout",
          "text": [
            "original tuple (1, 2, 3, 4)\n"
          ]
        }
      ]
    },
    {
      "cell_type": "code",
      "source": [
        "tup[1] = 10\n",
        "print(\"updated tuple:\", tup"
      ],
      "metadata": {
        "colab": {
          "base_uri": "https://localhost:8080/",
          "height": 106
        },
        "id": "4gF81chfbkU3",
        "outputId": "74717b6f-c7ab-4923-e946-5b9f1dcef54b"
      },
      "execution_count": 19,
      "outputs": [
        {
          "output_type": "error",
          "ename": "SyntaxError",
          "evalue": "incomplete input (<ipython-input-19-09af18990cb2>, line 2)",
          "traceback": [
            "\u001b[0;36m  File \u001b[0;32m\"<ipython-input-19-09af18990cb2>\"\u001b[0;36m, line \u001b[0;32m2\u001b[0m\n\u001b[0;31m    print(\"updated tuple:\", tup\u001b[0m\n\u001b[0m                               ^\u001b[0m\n\u001b[0;31mSyntaxError\u001b[0m\u001b[0;31m:\u001b[0m incomplete input\n"
          ]
        }
      ]
    },
    {
      "cell_type": "code",
      "source": [
        "# answer 6 and 7 are same\n",
        "# mutable\n",
        "lis = [1, 2, 3, 4]\n",
        "print(\"original list\",lis)\n",
        "lis[1] = 10\n",
        "print(\"updated List:\", lis)\n"
      ],
      "metadata": {
        "colab": {
          "base_uri": "https://localhost:8080/"
        },
        "id": "njpQwd0ybpby",
        "outputId": "02d6a174-a66c-4134-887d-7ae438c16fa2"
      },
      "execution_count": 8,
      "outputs": [
        {
          "output_type": "stream",
          "name": "stdout",
          "text": [
            "original list [1, 2, 3, 4]\n",
            "updated List: [1, 10, 3, 4]\n"
          ]
        }
      ]
    },
    {
      "cell_type": "code",
      "source": [
        "# immutable\n",
        "tup = (1, 2, 3, 4)\n",
        "print(\"original tuple\",tup)"
      ],
      "metadata": {
        "colab": {
          "base_uri": "https://localhost:8080/"
        },
        "id": "oum0dOUdqyk-",
        "outputId": "fa711419-6b2c-4ff8-d3d7-babfa9a432a1"
      },
      "execution_count": 9,
      "outputs": [
        {
          "output_type": "stream",
          "name": "stdout",
          "text": [
            "original tuple (1, 2, 3, 4)\n"
          ]
        }
      ]
    },
    {
      "cell_type": "code",
      "source": [
        "tup[1] = 10\n",
        "print(\"updated tuple:\", tup"
      ],
      "metadata": {
        "colab": {
          "base_uri": "https://localhost:8080/",
          "height": 106
        },
        "id": "jcZHMRseq50k",
        "outputId": "84374c72-9fdc-4d6b-de27-dfe7bc6ab9a3"
      },
      "execution_count": 10,
      "outputs": [
        {
          "output_type": "error",
          "ename": "SyntaxError",
          "evalue": "incomplete input (<ipython-input-10-09af18990cb2>, line 2)",
          "traceback": [
            "\u001b[0;36m  File \u001b[0;32m\"<ipython-input-10-09af18990cb2>\"\u001b[0;36m, line \u001b[0;32m2\u001b[0m\n\u001b[0;31m    print(\"updated tuple:\", tup\u001b[0m\n\u001b[0m                               ^\u001b[0m\n\u001b[0;31mSyntaxError\u001b[0m\u001b[0;31m:\u001b[0m incomplete input\n"
          ]
        }
      ]
    },
    {
      "cell_type": "code",
      "source": [
        "# answer 8\n",
        "x = 5\n",
        "y = 3\n",
        "# and\n",
        "print(\"x > 2 and y > 2:\", x > 2 and y > 2)\n",
        "# or\n",
        "print(\"x > 2 or y > 2:\", x > 2 or y > 2)\n",
        "# not\n",
        "print(\"not x > 2:\", not x > 2)"
      ],
      "metadata": {
        "colab": {
          "base_uri": "https://localhost:8080/"
        },
        "id": "-CWua0YYccDS",
        "outputId": "252505ab-9483-4320-ec59-e786ec869b4d"
      },
      "execution_count": 20,
      "outputs": [
        {
          "output_type": "stream",
          "name": "stdout",
          "text": [
            "x > 2 and y > 2: True\n",
            "x > 2 or y > 2: True\n",
            "not x > 2: False\n"
          ]
        }
      ]
    },
    {
      "cell_type": "code",
      "source": [
        "# answer 9\n",
        "\n",
        "user_input = input(\"Please enter a value: \")\n",
        "\n",
        "# String to Integer\n",
        "if user_input.isdigit():\n",
        "    int_value = int(user_input)\n",
        "    print(f\"String '{user_input}' to Integer: {int_value}\")\n",
        "else:\n",
        "    print(\"Cannot convert to integer.\")\n",
        "\n",
        "\n",
        "# String to Float\n",
        "if user_input.replace('.', '', 1).isdigit():\n",
        "    float_value = float(user_input)\n",
        "    print(f\"String '{user_input}' to Float: {float_value}\")\n",
        "else:\n",
        "    print(\"Cannot convert to float.\")\n",
        "\n",
        "\n",
        "# String to Boolean\n",
        "if user_input.lower() == \"true\":\n",
        "    bool_value = True\n",
        "    print(f\"String '{user_input}' to Boolean: {bool_value}\")\n",
        "elif user_input.lower() == \"false\":\n",
        "    bool_value = False\n",
        "    print(f\"String '{user_input}' to Boolean: {bool_value}\")\n",
        "else:\n",
        "    print(\"Cannot convert to boolean.\")\n"
      ],
      "metadata": {
        "colab": {
          "base_uri": "https://localhost:8080/"
        },
        "id": "O--JdNykdn2q",
        "outputId": "6c1f03a2-c8f6-4548-9a48-7727f9ca33b5"
      },
      "execution_count": 35,
      "outputs": [
        {
          "output_type": "stream",
          "name": "stdout",
          "text": [
            "Please enter a value: false\n",
            "Cannot convert to integer.\n",
            "Cannot convert to float.\n",
            "String 'false' to Boolean: False\n"
          ]
        }
      ]
    },
    {
      "cell_type": "code",
      "source": [
        "# answer 10\n",
        "\n",
        "lis = ['1', '2.5', 'True', 'Hello']\n",
        "print(\"original List:\" , lis)\n",
        "\n",
        "my_list[0] = int(my_list[0])\n",
        "my_list[1] = float(my_list[1])\n",
        "my_list[2] = bool(my_list[2])\n",
        "\n",
        "# Print type-casted list\n",
        "print(\"after type casting:\", lis)\n",
        "\n"
      ],
      "metadata": {
        "colab": {
          "base_uri": "https://localhost:8080/"
        },
        "id": "bwyRgKLCeUlp",
        "outputId": "94bbec94-8f56-4aae-b94d-6be7fa3bf69f"
      },
      "execution_count": 42,
      "outputs": [
        {
          "output_type": "stream",
          "name": "stdout",
          "text": [
            "original List: ['1', '2.5', 'True', 'Hello']\n",
            "after type casting: ['1', '2.5', 'True', 'Hello']\n"
          ]
        }
      ]
    },
    {
      "cell_type": "code",
      "source": [
        "# answer 11\n",
        "\n",
        "num = float(input(\"Enter a number: \"))\n",
        "\n",
        "if num > 0:\n",
        "    print(f\"{num} is a positive number.\")\n",
        "elif num < 0:\n",
        "    print(f\"{num} is a negative number.\")\n",
        "else:\n",
        "    print(f\"{num} is zero.\")\n"
      ],
      "metadata": {
        "colab": {
          "base_uri": "https://localhost:8080/"
        },
        "id": "5_Xl_hu2idYQ",
        "outputId": "b9c23ec2-b65d-4c37-9fd7-bf3abf325608"
      },
      "execution_count": 44,
      "outputs": [
        {
          "output_type": "stream",
          "name": "stdout",
          "text": [
            "Enter a number: 67\n",
            "67.0 is a positive number.\n"
          ]
        }
      ]
    },
    {
      "cell_type": "code",
      "source": [
        "# answer 12\n",
        "for i in range(1, 11):\n",
        "  print(i)"
      ],
      "metadata": {
        "colab": {
          "base_uri": "https://localhost:8080/"
        },
        "id": "yQbwh3VQk7so",
        "outputId": "3f30784b-7345-4318-97c7-472fcd8a9f2e"
      },
      "execution_count": 45,
      "outputs": [
        {
          "output_type": "stream",
          "name": "stdout",
          "text": [
            "1\n",
            "2\n",
            "3\n",
            "4\n",
            "5\n",
            "6\n",
            "7\n",
            "8\n",
            "9\n",
            "10\n"
          ]
        }
      ]
    },
    {
      "cell_type": "code",
      "source": [
        "# answer 13\n",
        "even_sum = 0\n",
        "\n",
        "for num in range(2, 51, 2):\n",
        "    even_sum += num\n",
        "print(\"The sum of all even number is\",even_sum)\n"
      ],
      "metadata": {
        "colab": {
          "base_uri": "https://localhost:8080/"
        },
        "id": "tQlzqpP3lr41",
        "outputId": "47e0a491-2474-475e-c09b-c3ffd7f328c3"
      },
      "execution_count": 55,
      "outputs": [
        {
          "output_type": "stream",
          "name": "stdout",
          "text": [
            "The sum of all even number is 650\n"
          ]
        }
      ]
    },
    {
      "cell_type": "code",
      "source": [
        "# answer 14\n",
        "\n"
      ],
      "metadata": {
        "id": "V9GhCr-GqSSt"
      },
      "execution_count": null,
      "outputs": []
    },
    {
      "cell_type": "code",
      "source": [
        "# answer 15\n",
        "num = int(input(\"Enter a number: \"))\n",
        "\n",
        "factorial = 1\n",
        "c = 1\n",
        "\n",
        "while c <= num:\n",
        "    factorial *= c\n",
        "    c += 1\n",
        "\n",
        "print(\"Factorial of\", num, \"is:\",factorial)\n"
      ],
      "metadata": {
        "colab": {
          "base_uri": "https://localhost:8080/"
        },
        "id": "RkbgLn0vnfDf",
        "outputId": "5dd03e3a-334b-4f45-d868-1b48a7a6c679"
      },
      "execution_count": 7,
      "outputs": [
        {
          "output_type": "stream",
          "name": "stdout",
          "text": [
            "Enter a number: 4\n",
            "Factorial of 4 is: 24\n"
          ]
        }
      ]
    },
    {
      "cell_type": "code",
      "source": [],
      "metadata": {
        "id": "9P3RYsfGl3wY"
      },
      "execution_count": 3,
      "outputs": []
    }
  ]
}